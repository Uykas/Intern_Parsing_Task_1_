{
 "cells": [
  {
   "cell_type": "code",
   "execution_count": 1,
   "id": "c4f1e8bc",
   "metadata": {},
   "outputs": [],
   "source": [
    "# -----------------------------------------------------------\n",
    "# На позицию\n",
    "# Стажер - АО «Центр развития платежных и финансовых технологий Национального Банка РК»\n",
    "\n",
    "# Первая задача:  \n",
    "# Парсинг сайта kingfisher.kz\n",
    "# Условие задания\n",
    "#  Записать в базу данных:\n",
    "#    Название продукта\n",
    "#    Название категории продукта\n",
    "#    Цену продукта\n",
    "#    Название города\n",
    "# \n",
    "# Результат отправить ссылкой на github  \n",
    "# -----------------------------------------------------------"
   ]
  },
  {
   "cell_type": "code",
   "execution_count": 2,
   "id": "f248dcee",
   "metadata": {},
   "outputs": [],
   "source": [
    "import requests\n",
    "from bs4 import BeautifulSoup\n",
    "import pandas as pd\n",
    "\n",
    "import sqlite3 "
   ]
  },
  {
   "cell_type": "code",
   "execution_count": 3,
   "id": "f76b21e0",
   "metadata": {},
   "outputs": [],
   "source": [
    "url = 'https://kingfisher.kz/'\n",
    "r = requests.get(url) \n",
    "soup = BeautifulSoup(r.text)\n",
    "\n",
    "uls_lis = soup.find_all('li',{'class': 'dropmenu'})\n",
    "soup_uld = BeautifulSoup(str(uls_lis)) \n",
    "\n",
    "dropmenu = soup_uld.find_all('li', {'class': 'dropmenu'}) # категория ишиндеги тамак аттары"
   ]
  },
  {
   "cell_type": "code",
   "execution_count": 4,
   "id": "3e2c0241",
   "metadata": {},
   "outputs": [],
   "source": [
    "good_soup = BeautifulSoup(str(dropmenu)) \n",
    "good_soup_1 = good_soup.find_all(\"span\")\n",
    "category = [str(i).replace(\"<span>\", '').replace(\"</span>\", '') for i in good_soup_1]\n",
    "category = [category[i] for i in range(len(category)) if str(category[i])!= \"Назад\" ]"
   ]
  },
  {
   "cell_type": "code",
   "execution_count": 5,
   "id": "2b7401a1",
   "metadata": {},
   "outputs": [],
   "source": [
    "city_span_c = str(BeautifulSoup(str(soup.find_all('div',{'class': 'popupBtn_city'}))).find_all(\"span\")).replace('[<span>', '').replace(\"</span>]\", '')"
   ]
  },
  {
   "cell_type": "code",
   "execution_count": 6,
   "id": "b93345cc",
   "metadata": {},
   "outputs": [],
   "source": [
    "def get_one_c(i):\n",
    "    soup_temp = BeautifulSoup(str(dropmenu[i])) \n",
    "\n",
    "    category_temp = soup_temp.find_all(\"span\")\n",
    "\n",
    "    category_temp_new = str(category_temp).replace(\"<span>\", '').replace(\"</span>\", '')\n",
    "\n",
    "    if (category_temp_new.find(category[i]) == 1):\n",
    "        return(category[i])\n",
    "# to get one category"
   ]
  },
  {
   "cell_type": "code",
   "execution_count": 7,
   "id": "43c7bd3b",
   "metadata": {},
   "outputs": [],
   "source": [
    "def get_links(i):\n",
    "    soup_soup = BeautifulSoup(str(dropmenu[i])) \n",
    "    links = [] # link\n",
    "    for link in soup_soup.find_all('a', href=True):\n",
    "        links.append(link['href'])\n",
    "    links_1 = []\n",
    "    # if / > 3 delete\n",
    "    len_1 = []\n",
    "    c = 0\n",
    "    for i in links:\n",
    "        for j in i:\n",
    "            if(j == '/'):\n",
    "                c = 1 + c\n",
    "        len_1.append(c)\n",
    "        c = 0\n",
    "    \n",
    "    for j in range(len(links)):\n",
    "        if(len_1[j] == 3):\n",
    "            links_1.append(links[j])\n",
    "    return(links_1)"
   ]
  },
  {
   "cell_type": "code",
   "execution_count": 8,
   "id": "690d7fab",
   "metadata": {},
   "outputs": [],
   "source": [
    "# Создание датафрэйма\n",
    "df = pd.DataFrame(columns = ['product_id','product_category_name','product_name','product_price','product_city'])\n",
    "df_1 =  pd.DataFrame(columns = ['product_category_name','product_link'])"
   ]
  },
  {
   "cell_type": "code",
   "execution_count": 9,
   "id": "194223b6",
   "metadata": {},
   "outputs": [],
   "source": [
    "# Чтобы получуть отдельно 'product_category_name','product_link'\n",
    "count = 0 \n",
    "for i in range(len(dropmenu)):\n",
    "    for j in get_links(i):\n",
    "        df_1.loc[count] = ([str(category[i]), str(j)])\n",
    "        count = count + 1"
   ]
  },
  {
   "cell_type": "code",
   "execution_count": 10,
   "id": "d668b243",
   "metadata": {},
   "outputs": [],
   "source": [
    "def get_links_names_ins(i):\n",
    "    soup_soup = BeautifulSoup(str(goodsBlock[i])) \n",
    "    links_n = [] # text\n",
    "    for link_n in soup_soup.find_all('a'):\n",
    "        links_n.append(link_n.getText())\n",
    "    return(links_n[1])"
   ]
  },
  {
   "cell_type": "code",
   "execution_count": 11,
   "id": "e9f23e75",
   "metadata": {},
   "outputs": [],
   "source": [
    "def get_price_ins(i):\n",
    "    price_span_pos = goodsBlock[i].find_all('span', {'class': 'pricePosition'})\n",
    "    soup_price = BeautifulSoup(str(price_span_pos)) \n",
    "    price_span_real = soup_price.find_all('span', {'class': 'new'})\n",
    "    price_new = str(price_span_real).replace('[<span class=\"new\">', '').replace(\"Т</span>]\", '').replace(' ', '')\n",
    "    price = int(price_new)\n",
    "    return(price)"
   ]
  },
  {
   "cell_type": "code",
   "execution_count": 12,
   "id": "a8f0bf62",
   "metadata": {},
   "outputs": [],
   "source": [
    "# Выполнение парсинга и заточение данных в датафрейм\n",
    "count_4 = 0\n",
    "for i in range(len(df_1)):\n",
    "    for j in range(len(category)):\n",
    "        if(df_1['product_category_name'][i] == category[j]):\n",
    "            url_ins = 'https://kingfisher.kz' + df_1['product_link'][i]\n",
    "            r_ins = requests.get(url_ins) \n",
    "            soup_ins = BeautifulSoup(r_ins.text)\n",
    "            uls_ins = soup_ins.find_all('div',{'class': 'Goods goodslist padSpace'})\n",
    "            soup_n_ins = BeautifulSoup(str(uls_ins)) \n",
    "            goodsBlock = soup_n_ins.find_all('div', {'class': 'goodsBlock'})\n",
    "            for k in range(len(goodsBlock)):\n",
    "                df.loc[count_4] = [ count_4, str(df_1['product_category_name'][i]),str(get_links_names_ins(k)), get_price_ins(k), str(city_span_c)]\n",
    "                count_4 = count_4 + 1"
   ]
  },
  {
   "cell_type": "code",
   "execution_count": 13,
   "id": "4517591e",
   "metadata": {},
   "outputs": [
    {
     "name": "stdout",
     "output_type": "stream",
     "text": [
      "Note: you may need to restart the kernel to use updated packages.\n"
     ]
    },
    {
     "name": "stderr",
     "output_type": "stream",
     "text": [
      "ERROR: Invalid requirement: '#'\n",
      "WARNING: You are using pip version 21.1.1; however, version 21.2.4 is available.\n",
      "You should consider upgrading via the 'c:\\Users\\User\\AppData\\Local\\Programs\\Python\\Python39\\python.exe -m pip install --upgrade pip' command.\n"
     ]
    }
   ],
   "source": [
    "pip install openpyxl # in order to work with excel"
   ]
  },
  {
   "cell_type": "code",
   "execution_count": 14,
   "id": "b4725b3c",
   "metadata": {},
   "outputs": [],
   "source": [
    "# Из датафрэйма в excel\n",
    "df.to_excel(\"pandas_df_excel.xlsx\")  "
   ]
  },
  {
   "cell_type": "code",
   "execution_count": 15,
   "id": "2d6f7dc1",
   "metadata": {},
   "outputs": [],
   "source": [
    "# Из датафрэйма в базу данных sqlite3\n",
    "conn = sqlite3.connect('kingsite.db')\n",
    "cur = conn.cursor()"
   ]
  },
  {
   "cell_type": "code",
   "execution_count": 16,
   "id": "ec58a64d",
   "metadata": {},
   "outputs": [],
   "source": [
    "df.to_sql('king', con=conn,if_exists = 'replace', index=False)\n",
    "# if_exists = 'replace' -- Если такая таблица существует то drop the table"
   ]
  },
  {
   "cell_type": "code",
   "execution_count": 17,
   "id": "733c5c46",
   "metadata": {},
   "outputs": [
    {
     "data": {
      "text/html": [
       "<div>\n",
       "<style scoped>\n",
       "    .dataframe tbody tr th:only-of-type {\n",
       "        vertical-align: middle;\n",
       "    }\n",
       "\n",
       "    .dataframe tbody tr th {\n",
       "        vertical-align: top;\n",
       "    }\n",
       "\n",
       "    .dataframe thead th {\n",
       "        text-align: right;\n",
       "    }\n",
       "</style>\n",
       "<table border=\"1\" class=\"dataframe\">\n",
       "  <thead>\n",
       "    <tr style=\"text-align: right;\">\n",
       "      <th></th>\n",
       "      <th>product_id</th>\n",
       "      <th>product_category_name</th>\n",
       "      <th>product_name</th>\n",
       "      <th>product_price</th>\n",
       "      <th>product_city</th>\n",
       "    </tr>\n",
       "  </thead>\n",
       "  <tbody>\n",
       "    <tr>\n",
       "      <th>0</th>\n",
       "      <td>0</td>\n",
       "      <td>Морепродукты</td>\n",
       "      <td>Креветки Королевские 26/30 очищенные</td>\n",
       "      <td>5290</td>\n",
       "      <td>Алматы</td>\n",
       "    </tr>\n",
       "    <tr>\n",
       "      <th>1</th>\n",
       "      <td>1</td>\n",
       "      <td>Морепродукты</td>\n",
       "      <td>Креветка Королевская 31/40 очищенная</td>\n",
       "      <td>5900</td>\n",
       "      <td>Алматы</td>\n",
       "    </tr>\n",
       "    <tr>\n",
       "      <th>2</th>\n",
       "      <td>2</td>\n",
       "      <td>Морепродукты</td>\n",
       "      <td>Лангустины в панцире с головой, размер 21-30</td>\n",
       "      <td>6500</td>\n",
       "      <td>Алматы</td>\n",
       "    </tr>\n",
       "    <tr>\n",
       "      <th>3</th>\n",
       "      <td>3</td>\n",
       "      <td>Морепродукты</td>\n",
       "      <td>Креветка Королевская  21/25, в панцире без головы</td>\n",
       "      <td>5500</td>\n",
       "      <td>Алматы</td>\n",
       "    </tr>\n",
       "    <tr>\n",
       "      <th>4</th>\n",
       "      <td>4</td>\n",
       "      <td>Морепродукты</td>\n",
       "      <td>Чука салат замороженный</td>\n",
       "      <td>2800</td>\n",
       "      <td>Алматы</td>\n",
       "    </tr>\n",
       "    <tr>\n",
       "      <th>...</th>\n",
       "      <td>...</td>\n",
       "      <td>...</td>\n",
       "      <td>...</td>\n",
       "      <td>...</td>\n",
       "      <td>...</td>\n",
       "    </tr>\n",
       "    <tr>\n",
       "      <th>342</th>\n",
       "      <td>342</td>\n",
       "      <td>Масло</td>\n",
       "      <td>Масло Авокадо Avocado Oil</td>\n",
       "      <td>4000</td>\n",
       "      <td>Алматы</td>\n",
       "    </tr>\n",
       "    <tr>\n",
       "      <th>343</th>\n",
       "      <td>343</td>\n",
       "      <td>Масло</td>\n",
       "      <td>Масло Сливочное BURRO ASOLO</td>\n",
       "      <td>1790</td>\n",
       "      <td>Алматы</td>\n",
       "    </tr>\n",
       "    <tr>\n",
       "      <th>344</th>\n",
       "      <td>344</td>\n",
       "      <td>Кухня</td>\n",
       "      <td>Сковорода для Паэльи  38 см</td>\n",
       "      <td>9000</td>\n",
       "      <td>Алматы</td>\n",
       "    </tr>\n",
       "    <tr>\n",
       "      <th>345</th>\n",
       "      <td>345</td>\n",
       "      <td>Кухня</td>\n",
       "      <td>Чугунная Сковорода Гриль VAELLO</td>\n",
       "      <td>12500</td>\n",
       "      <td>Алматы</td>\n",
       "    </tr>\n",
       "    <tr>\n",
       "      <th>346</th>\n",
       "      <td>346</td>\n",
       "      <td>Кухня</td>\n",
       "      <td>Чугунная Сковорода Круглая VAELLO</td>\n",
       "      <td>13000</td>\n",
       "      <td>Алматы</td>\n",
       "    </tr>\n",
       "  </tbody>\n",
       "</table>\n",
       "<p>347 rows × 5 columns</p>\n",
       "</div>"
      ],
      "text/plain": [
       "     product_id product_category_name  \\\n",
       "0             0          Морепродукты   \n",
       "1             1          Морепродукты   \n",
       "2             2          Морепродукты   \n",
       "3             3          Морепродукты   \n",
       "4             4          Морепродукты   \n",
       "..          ...                   ...   \n",
       "342         342                 Масло   \n",
       "343         343                 Масло   \n",
       "344         344                 Кухня   \n",
       "345         345                 Кухня   \n",
       "346         346                 Кухня   \n",
       "\n",
       "                                          product_name  product_price  \\\n",
       "0                 Креветки Королевские 26/30 очищенные           5290   \n",
       "1                 Креветка Королевская 31/40 очищенная           5900   \n",
       "2         Лангустины в панцире с головой, размер 21-30           6500   \n",
       "3    Креветка Королевская  21/25, в панцире без головы           5500   \n",
       "4                              Чука салат замороженный           2800   \n",
       "..                                                 ...            ...   \n",
       "342                          Масло Авокадо Avocado Oil           4000   \n",
       "343                        Масло Сливочное BURRO ASOLO           1790   \n",
       "344                        Сковорода для Паэльи  38 см           9000   \n",
       "345                    Чугунная Сковорода Гриль VAELLO          12500   \n",
       "346                  Чугунная Сковорода Круглая VAELLO          13000   \n",
       "\n",
       "    product_city  \n",
       "0         Алматы  \n",
       "1         Алматы  \n",
       "2         Алматы  \n",
       "3         Алматы  \n",
       "4         Алматы  \n",
       "..           ...  \n",
       "342       Алматы  \n",
       "343       Алматы  \n",
       "344       Алматы  \n",
       "345       Алматы  \n",
       "346       Алматы  \n",
       "\n",
       "[347 rows x 5 columns]"
      ]
     },
     "execution_count": 17,
     "metadata": {},
     "output_type": "execute_result"
    }
   ],
   "source": [
    "pd.read_sql('SELECT * FROM king', conn) # show table from sql"
   ]
  },
  {
   "cell_type": "code",
   "execution_count": 18,
   "id": "5131a51c",
   "metadata": {},
   "outputs": [],
   "source": [
    "conn.close()"
   ]
  }
 ],
 "metadata": {
  "kernelspec": {
   "display_name": "Python 3.9.5 64-bit ('Python39')",
   "language": "python",
   "name": "python395jvsc74a57bd0bb78b12cfc590b275a019df4ef90770de79f3dac1ac06a544d60aef24765b115"
  },
  "language_info": {
   "codemirror_mode": {
    "name": "ipython",
    "version": 3
   },
   "file_extension": ".py",
   "mimetype": "text/x-python",
   "name": "python",
   "nbconvert_exporter": "python",
   "pygments_lexer": "ipython3",
   "version": "3.9.5"
  }
 },
 "nbformat": 4,
 "nbformat_minor": 5
}
